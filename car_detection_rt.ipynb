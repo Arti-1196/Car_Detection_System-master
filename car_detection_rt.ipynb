{
 "cells": [
  {
   "cell_type": "code",
   "execution_count": 2,
   "id": "0e6b4912-969e-48e4-becd-db8c895f8f50",
   "metadata": {},
   "outputs": [],
   "source": [
    "import cv2"
   ]
  },
  {
   "cell_type": "code",
   "execution_count": 3,
   "id": "cb010d4b-8368-4d97-bc46-16ee01239800",
   "metadata": {},
   "outputs": [],
   "source": [
    "path = r'C:\\Users\\ArtiMarthak\\Downloads\\cv\\other_project\\data\\CCTV Footage.mp4'"
   ]
  },
  {
   "cell_type": "code",
   "execution_count": 4,
   "id": "160b4549-4995-42bd-a5b5-e04d13d4d62a",
   "metadata": {},
   "outputs": [],
   "source": [
    "cap = cv2.VideoCapture(path)"
   ]
  },
  {
   "cell_type": "code",
   "execution_count": 5,
   "id": "c0516d83-ed7a-4502-8c92-0d1d4d1cb5ad",
   "metadata": {},
   "outputs": [],
   "source": [
    "car_cascade = cv2.CascadeClassifier(r'C:\\Users\\ArtiMarthak\\Downloads\\cv\\other_project\\Car_Detection_System-master\\cars.xml')"
   ]
  },
  {
   "cell_type": "code",
   "execution_count": 6,
   "id": "13d8cbbf-46b0-46c2-97ec-fc0322b0e35a",
   "metadata": {},
   "outputs": [],
   "source": [
    "while True:\n",
    "    ret,frames = cap.read()\n",
    "    gray = cv2.cvtColor(frames,cv2.COLOR_BGR2GRAY)\n",
    "    cars = car_cascade.detectMultiScale(gray,1.1,9)\n",
    "    \n",
    "    for (x,y,w,h) in cars:\n",
    "        plate = frames[y+y+h,x:x+w]\n",
    "        cv2.rectangle(frames,(x,y),(x+w,y+h),(51,51,255),2)\n",
    "        cv2.rectangle(frames, (x, y - 40), (x + w, y), (51,51,255), -2)\n",
    "        cv2.putText(frames, 'Car', (x, y - 10), cv2.FONT_HERSHEY_SIMPLEX, 0.7, (255, 255, 255), 2)\n",
    "        cv2.imshow('car',plate)\n",
    "\n",
    "    # lab1 = \"Car Count: \" + str(i)\n",
    "    # cv2.putText(frames, lab1, (40, 50), cv2.FONT_HERSHEY_SIMPLEX, 1, (147, 20, 255), 3)\n",
    "    frames = cv2.resize(frames,(600,400))\n",
    "    cv2.imshow('Car Detection System', frames)\n",
    "    # cv2.resizeWindow('Car Detection System', 600, 600)\n",
    "    # k = cv2.waitKey(30) & 0xff == ord('q')\n",
    "    if cv2.waitKey(30) & 0xff == ord('q'):\n",
    "        break\n",
    "cap.release()\n",
    "cv2.destroyAllWindows()"
   ]
  },
  {
   "cell_type": "code",
   "execution_count": null,
   "id": "c51c057d-9e9d-414e-aeb6-e0fd9cd48a0d",
   "metadata": {},
   "outputs": [],
   "source": []
  }
 ],
 "metadata": {
  "kernelspec": {
   "display_name": "Python 3 (ipykernel)",
   "language": "python",
   "name": "python3"
  },
  "language_info": {
   "codemirror_mode": {
    "name": "ipython",
    "version": 3
   },
   "file_extension": ".py",
   "mimetype": "text/x-python",
   "name": "python",
   "nbconvert_exporter": "python",
   "pygments_lexer": "ipython3",
   "version": "3.9.7"
  }
 },
 "nbformat": 4,
 "nbformat_minor": 5
}
